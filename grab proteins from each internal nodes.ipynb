{
 "cells": [
  {
   "cell_type": "code",
   "execution_count": 113,
   "id": "3fecc0c0-4b87-4265-b872-7b40dd25fd6b",
   "metadata": {},
   "outputs": [],
   "source": [
    "import os\n",
    "import re\n",
    "import pandas as pd"
   ]
  },
  {
   "cell_type": "markdown",
   "id": "9e2a5552-950a-4e05-aaed-9486da34d6a1",
   "metadata": {},
   "source": [
    "# Find the file name(s) based on a given protein name"
   ]
  },
  {
   "cell_type": "code",
   "execution_count": 288,
   "id": "dac2c9ec-ca75-4a32-ab57-a22f090367d7",
   "metadata": {},
   "outputs": [],
   "source": [
    "\n",
    "proteinname = 'Af_PCC|1643'\n",
    "regex_pattern = r\">\" + re.escape(proteinname) + r\" \\[\"\n",
    "match_reuslt = re.match(regex_pattern, text)\n",
    "\n",
    "\n",
    "def get_filenames_from_proteinname(proteinname: str):\n",
    "    \"\"\"\n",
    "    The input is a string indicting the name of specific protein.\n",
    "    This function is going to find the file names that contain this protein name in the text.\n",
    "    \"\"\"\n",
    "    def exist_deisred_name(file_name, proteinname):\n",
    "        with open(os.path.join(directory, file_name), 'r') as f:\n",
    "            content = '\\n'.join(f.readlines())\n",
    "            \n",
    "            proteinname = proteinname.replace('|', '\\|')\n",
    "            regex_pattern = re.compile(f\">{proteinname} \\[\")\n",
    "            match_reuslt = re.search(regex_pattern, content)\n",
    "            \n",
    "            if match_reuslt is None:\n",
    "                return False\n",
    "            else:\n",
    "                return True\n",
    "\n",
    "    directory = 'D:/Pycharm/project/orthologues_run_Friday'\n",
    "    file_names = os.listdir(directory)\n",
    "    desired_names = [x for x in file_names if exist_deisred_name(x, proteinname)]\n",
    "    return desired_names"
   ]
  },
  {
   "cell_type": "code",
   "execution_count": 314,
   "id": "f5b2f976-5d51-4082-930a-2d2f5d8f36a9",
   "metadata": {},
   "outputs": [
    {
     "name": "stdout",
     "output_type": "stream",
     "text": [
      "Processing progess: 0/4264\n",
      "Processing progess: 1000/4264\n",
      "Processing progess: 2000/4264\n",
      "Processing progess: 3000/4264\n",
      "Processing progess: 4000/4264\n",
      "                                        uml_rec    species_gene\n",
      "0       re_root.newick_0.aln.ufboot.ale.uml_rec     G_SBC|24918\n",
      "1       re_root.newick_1.aln.ufboot.ale.uml_rec  P_yuhuli|54541\n",
      "2   re_root.newick_1.faa.aln.ufboot.ale.uml_rec  P_yuhuli|54541\n",
      "3      re_root.newick_10.aln.ufboot.ale.uml_rec      Af_PCC|972\n",
      "4     re_root.newick_100.aln.ufboot.ale.uml_rec      Af_PCC|845\n",
      "5    re_root.newick_1000.aln.ufboot.ale.uml_rec  P_yuhuli|53527\n",
      "6    re_root.newick_1001.aln.ufboot.ale.uml_rec     G_BBD|14948\n",
      "7    re_root.newick_1002.aln.ufboot.ale.uml_rec    G_9228|12080\n",
      "8    re_root.newick_1005.aln.ufboot.ale.uml_rec     G_BBD|18402\n",
      "9    re_root.newick_1006.aln.ufboot.ale.uml_rec      Af_PCC|835\n",
      "10   re_root.newick_1007.aln.ufboot.ale.uml_rec     G_7105|9012\n",
      "11   re_root.newick_1008.aln.ufboot.ale.uml_rec    G_9228|12584\n",
      "12   re_root.newick_1009.aln.ufboot.ale.uml_rec    G_9228|12169\n",
      "13    re_root.newick_101.aln.ufboot.ale.uml_rec     G_BBD|16154\n",
      "14   re_root.newick_1010.aln.ufboot.ale.uml_rec    G_9228|13877\n",
      "15   re_root.newick_1011.aln.ufboot.ale.uml_rec     G_BBD|15502\n",
      "16   re_root.newick_1013.aln.ufboot.ale.uml_rec  P_yuhuli|54638\n",
      "17   re_root.newick_1014.aln.ufboot.ale.uml_rec  P_yuhuli|52351\n",
      "18   re_root.newick_1015.aln.ufboot.ale.uml_rec     G_BBD|15500\n",
      "19   re_root.newick_1016.aln.ufboot.ale.uml_rec     Af_PCC|2217\n"
     ]
    }
   ],
   "source": [
    "def find_species_gene_from_uml_rec():\n",
    "    \"\"\"\n",
    "    Find the species_gene from each .uml_rec files\n",
    "    \"\"\"\n",
    "    \n",
    "    def find_species_genes(file_name):\n",
    "        \"\"\"\n",
    "        Find the species_gene from a given file \n",
    "        \"\"\"\n",
    "        with open(file_name, 'r') as f:\n",
    "            content = f.readlines()\n",
    "        result = content[11].split(':')[0].replace('(', \"\").split('.')[0]\n",
    "        return result\n",
    "    \n",
    "    fold_name = r'D:\\OneDrive - University of Calgary\\bioinformatics\\homework\\ancestral reconstruction\\root2'\n",
    "    fruit = []\n",
    "    target_file_names = [x for x in os.listdir(fold_name) if x.endswith('.uml_rec')]\n",
    "    for i, uml_rec in enumerate(target_file_names):\n",
    "        file_path = os.path.join(fold_name, uml_rec)\n",
    "        fruit.append([uml_rec, find_species_genes(file_path)])\n",
    "        \n",
    "        # print the progress\n",
    "        if i % 1000 == 0:\n",
    "            print(f\"Processing progess: {i}/{len(target_file_names)}\")\n",
    "    \n",
    "    df = pd.DataFrame(fruit, columns=['uml_rec', 'species_gene'])\n",
    "    return df\n",
    "\n",
    "\n",
    "species_gene_df = find_species_gene_from_uml_rec()\n",
    "species_gene_df.to_csv(r\"D:\\OneDrive - University of Calgary\\bioinformatics\\homework\\ancestral reconstruction\\fruit.csv\", index=False)\n",
    "print(species_gene_df.head(20))"
   ]
  },
  {
   "cell_type": "markdown",
   "id": "13d7aa87-7a72-4531-9ce6-a06a83fd5b8d",
   "metadata": {},
   "source": [
    "# Concat all csv file names together"
   ]
  },
  {
   "cell_type": "code",
   "execution_count": 318,
   "id": "d64794e6-0f8f-45b3-8a90-a33e93494d4e",
   "metadata": {
    "tags": []
   },
   "outputs": [],
   "source": [
    "fold_name = r\"D:\\OneDrive - University of Calgary\\bioinformatics\\homework\\ancestral reconstruction\\gene family at each node\"\n",
    "\n",
    "df_2 = pd.DataFrame()\n",
    "for file_name in os.listdir(fold_name):\n",
    "    df_2 = pd.concat([df_2, pd.read_csv(os.path.join(fold_name, file_name))])\n",
    "\n",
    "df_merge = pd.merge(df_2, species_gene_df.rename(columns={\"uml_rec\": \"Gene_family\"}), on='Gene_family', how='left')\n",
    "df_merge.to_csv(r\"D:\\OneDrive - University of Calgary\\bioinformatics\\homework\\ancestral reconstruction\\df_merge.csv\", index=False)\n"
   ]
  },
  {
   "cell_type": "code",
   "execution_count": 118,
   "id": "9ce4fcf7-e290-42f4-a1c0-baf6c4afc0d6",
   "metadata": {},
   "outputs": [],
   "source": [
    "df_merge = pd.read_csv(r\"D:\\OneDrive - University of Calgary\\bioinformatics\\homework\\ancestral reconstruction\\df_merge.csv\")"
   ]
  },
  {
   "cell_type": "code",
   "execution_count": 333,
   "id": "2103debc-a02e-44f9-9a98-89991915b5fe",
   "metadata": {},
   "outputs": [],
   "source": [
    "def extract_protein(file_name: str) -> str:\n",
    "    \"\"\"\n",
    "    Extract the protein from the first line.\n",
    "    The regex rule is:\n",
    "    Start from: a period with several digits and a space\n",
    "    End before: a space and '(Bacteria'\n",
    "    \"\"\"\n",
    "    with open(os.path.join(directory, file_name), 'r') as f:\n",
    "        content = f.readline()\n",
    "    search_result = re.search(r'\\.\\d+ (.+) \\(Bacteria', content)\n",
    "    if search_result is not None:\n",
    "        return search_result.group(1)\n",
    "    else:\n",
    "        return None"
   ]
  },
  {
   "cell_type": "code",
   "execution_count": 336,
   "id": "19ef8b41-599d-4f40-8107-2514437cb27c",
   "metadata": {
    "tags": []
   },
   "outputs": [
    {
     "name": "stdout",
     "output_type": "stream",
     "text": [
      "0/1438 \t Finshed.\n",
      "100/1438 \t Finshed.\n",
      "200/1438 \t Finshed.\n",
      "300/1438 \t Finshed.\n",
      "400/1438 \t Finshed.\n",
      "500/1438 \t Finshed.\n",
      "600/1438 \t Finshed.\n",
      "700/1438 \t Finshed.\n",
      "800/1438 \t Finshed.\n",
      "900/1438 \t Finshed.\n",
      "1000/1438 \t Finshed.\n",
      "1100/1438 \t Finshed.\n",
      "1200/1438 \t Finshed.\n",
      "1300/1438 \t Finshed.\n",
      "1400/1438 \t Finshed.\n"
     ]
    }
   ],
   "source": [
    "\n",
    "file_name_ = []\n",
    "file_protein_ = []\n",
    "for i, proteinname in enumerate(df_merge['species_gene']):\n",
    "    file_names_list_for_proteinname = get_filenames_from_proteinname(proteinname)\n",
    "    file_name = file_names_list_for_proteinname[0]\n",
    "    protein = extract_protein(file_name)\n",
    "    file_name_.append(file_name)\n",
    "    file_protein_.append(protein)\n",
    "    \n",
    "    if i % 100 == 0:\n",
    "        print(f\"{i}/{len(df_merge)} \\t Finshed.\")\n",
    "\n",
    "df_merge['gene_cluster'] = file_name_\n",
    "df_merge['protein'] = file_protein_\n",
    "df_merge.to_csv(r'C:\\Users\\ylc_c\\OneDrive\\桌面\\df_merge.csv', index=False)"
   ]
  },
  {
   "cell_type": "code",
   "execution_count": null,
   "id": "8e57d043-b5bf-44fe-9df5-9bc3bf916f84",
   "metadata": {},
   "outputs": [],
   "source": []
  }
 ],
 "metadata": {
  "kernelspec": {
   "display_name": "Python 3 (ipykernel)",
   "language": "python",
   "name": "python3"
  },
  "language_info": {
   "codemirror_mode": {
    "name": "ipython",
    "version": 3
   },
   "file_extension": ".py",
   "mimetype": "text/x-python",
   "name": "python",
   "nbconvert_exporter": "python",
   "pygments_lexer": "ipython3",
   "version": "3.10.9"
  }
 },
 "nbformat": 4,
 "nbformat_minor": 5
}
